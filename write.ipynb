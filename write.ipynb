{
 "cells": [
  {
   "cell_type": "code",
   "execution_count": null,
   "id": "welcome-dutch",
   "metadata": {},
   "outputs": [],
   "source": [
    "import os\n",
    "import sys\n",
    "from pathlib import Path\n",
    "\n",
    "\n",
    "def main(args):\n",
    "    # parser = argparse.ArgumentParser(description='Returns sum of two arguments')\n",
    "    # parser.add_argument(\"--name\", type=str, required=True)\n",
    "    # parser.add_argument(\"--name_out\", type=str, required=True)\n",
    "    # args = parser.parse_args(args)\n",
    "    name = os.environ.get(\"--name\")\n",
    "    name_out = os.environ.get(\"--name_out\")\n",
    "    path_pre = '/data/'\n",
    "    if not os.path.exists(path_pre):\n",
    "        os.makedirs(path_pre)\n",
    "    path = '{}{}'.format(path_pre, name)\n",
    "    print(\"Start to read...\")\n",
    "    print('path:', path)\n",
    "\n",
    "    with open(path, 'w') as f:\n",
    "        f.write('test!test')\n",
    "        print(\"successful write..\")\n",
    "\n",
    "        f.close()\n",
    "    Path(name_out).parent.mkdir(parents=True, exist_ok=True)\n",
    "    with open(name_out, 'w') as output_f:\n",
    "        output_f.write(path)"
   ]
  }
 ],
 "metadata": {
  "kernelspec": {
   "display_name": "Python 3",
   "language": "python",
   "name": "python3"
  },
  "language_info": {
   "codemirror_mode": {
    "name": "ipython",
    "version": 3
   },
   "file_extension": ".py",
   "mimetype": "text/x-python",
   "name": "python",
   "nbconvert_exporter": "python",
   "pygments_lexer": "ipython3",
   "version": "3.8.8"
  }
 },
 "nbformat": 4,
 "nbformat_minor": 5
}
